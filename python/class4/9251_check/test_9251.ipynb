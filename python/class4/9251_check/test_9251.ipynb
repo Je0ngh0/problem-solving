{
 "cells": [
  {
   "cell_type": "code",
   "execution_count": 69,
   "id": "7a7fce1f",
   "metadata": {},
   "outputs": [],
   "source": [
    "arr = ['ACAYKP', 'CAPCAKEE']"
   ]
  },
  {
   "cell_type": "code",
   "execution_count": 83,
   "id": "2525bd14",
   "metadata": {},
   "outputs": [],
   "source": [
    "n, m = len(arr[0]), len(arr[1])\n",
    "\n",
    "dp = [[0 for _ in range(m+1)] for _ in range(n+1)]"
   ]
  },
  {
   "cell_type": "code",
   "execution_count": 84,
   "id": "2a7333c1",
   "metadata": {},
   "outputs": [
    {
     "data": {
      "text/plain": [
       "[[0, 0, 0, 0, 0, 0, 0, 0, 0],\n",
       " [0, 0, 0, 0, 0, 0, 0, 0, 0],\n",
       " [0, 0, 0, 0, 0, 0, 0, 0, 0],\n",
       " [0, 0, 0, 0, 0, 0, 0, 0, 0],\n",
       " [0, 0, 0, 0, 0, 0, 0, 0, 0],\n",
       " [0, 0, 0, 0, 0, 0, 0, 0, 0],\n",
       " [0, 0, 0, 0, 0, 0, 0, 0, 0]]"
      ]
     },
     "execution_count": 84,
     "metadata": {},
     "output_type": "execute_result"
    }
   ],
   "source": [
    "dp"
   ]
  },
  {
   "cell_type": "code",
   "execution_count": 86,
   "id": "5161a135",
   "metadata": {},
   "outputs": [],
   "source": [
    "n, m = len(arr[0]), len(arr[1])\n",
    "\n",
    "# 행은 n+1, 열은 m+1\n",
    "dp = [[0 for _ in range(m+1)] for _ in range(n+1)]\n",
    "\n",
    "for i in range(1, n+1):\n",
    "    for j in range(1, m+1):\n",
    "        if arr[0][i-1] == arr[1][j-1]:\n",
    "            dp[i][j] = dp[i-1][j-1] + 1\n",
    "        else:\n",
    "            dp[i][j] = max(dp[i-1][j], dp[i][j-1])\n"
   ]
  },
  {
   "cell_type": "code",
   "execution_count": 87,
   "id": "3099af4e",
   "metadata": {},
   "outputs": [
    {
     "data": {
      "text/plain": [
       "[[0, 0, 0, 0, 0, 0, 0, 0, 0],\n",
       " [0, 0, 1, 1, 1, 1, 1, 1, 1],\n",
       " [0, 1, 1, 1, 2, 2, 2, 2, 2],\n",
       " [0, 1, 2, 2, 2, 3, 3, 3, 3],\n",
       " [0, 1, 2, 2, 2, 3, 3, 3, 3],\n",
       " [0, 1, 2, 2, 2, 3, 4, 4, 4],\n",
       " [0, 1, 2, 3, 3, 3, 4, 4, 4]]"
      ]
     },
     "execution_count": 87,
     "metadata": {},
     "output_type": "execute_result"
    }
   ],
   "source": [
    "dp"
   ]
  }
 ],
 "metadata": {
  "kernelspec": {
   "display_name": "boj-env (3.12.11)",
   "language": "python",
   "name": "python3"
  },
  "language_info": {
   "codemirror_mode": {
    "name": "ipython",
    "version": 3
   },
   "file_extension": ".py",
   "mimetype": "text/x-python",
   "name": "python",
   "nbconvert_exporter": "python",
   "pygments_lexer": "ipython3",
   "version": "3.12.11"
  }
 },
 "nbformat": 4,
 "nbformat_minor": 5
}
