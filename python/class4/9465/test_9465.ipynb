{
 "cells": [
  {
   "cell_type": "code",
   "execution_count": 11,
   "id": "492161fa",
   "metadata": {},
   "outputs": [],
   "source": [
    "t = 2\n",
    "cases = {'case0': {'n': 5, 'arr': [[50, 10, 100, 20, 40], [30, 50, 70, 10, 60]]}, 'case1': {'n': 7, 'arr': [[10, 30, 10, 50, 100, 20, 40], [20, 40, 30, 50, 60, 20, 80]]}}"
   ]
  },
  {
   "cell_type": "code",
   "execution_count": 21,
   "id": "a3ae9303",
   "metadata": {},
   "outputs": [],
   "source": [
    "n, arr = cases[\"case0\"].values()"
   ]
  },
  {
   "cell_type": "code",
   "execution_count": 43,
   "id": "711329ae",
   "metadata": {},
   "outputs": [],
   "source": [
    "def my_dp(n, arr):\n",
    "    dp = [\n",
    "        [arr[0][0], arr[1][0] + arr[0][1]],\n",
    "        [arr[1][0], arr[0][0] + arr[1][1]],\n",
    "    ]\n",
    "\n",
    "    for i in range(2, n):\n",
    "        if dp[1][i-2] > dp[1][i-1]:\n",
    "            dp[0].append(dp[1][i-2] + arr[0][i])\n",
    "        else:\n",
    "            dp[0].append(dp[1][i-1] + arr[0][i])\n",
    "\n",
    "        if dp[0][i-2] > dp[0][i-1]:\n",
    "            dp[1].append(dp[0][i-2] + arr[1][i])\n",
    "        else:\n",
    "            dp[1].append(dp[0][i-1] + arr[1][i])\n",
    "\n",
    "    result = max(dp[0][-1], dp[1][-1])\n",
    "    return result"
   ]
  },
  {
   "cell_type": "code",
   "execution_count": 44,
   "id": "660591bb",
   "metadata": {},
   "outputs": [
    {
     "name": "stdout",
     "output_type": "stream",
     "text": [
      "260\n",
      "290\n"
     ]
    }
   ],
   "source": [
    "for case in cases.values():\n",
    "    n, arr = case.values()\n",
    "    print(my_dp(n, arr))"
   ]
  },
  {
   "cell_type": "code",
   "execution_count": 37,
   "id": "6089d0ab",
   "metadata": {},
   "outputs": [
    {
     "name": "stdout",
     "output_type": "stream",
     "text": [
      "[50, 40, 200, 140, 250]\n",
      "[30, 100, 120, 210, 260]\n"
     ]
    }
   ],
   "source": [
    "for seq in dp:\n",
    "    print(seq)"
   ]
  }
 ],
 "metadata": {
  "kernelspec": {
   "display_name": "boj-env (3.12.11)",
   "language": "python",
   "name": "python3"
  },
  "language_info": {
   "codemirror_mode": {
    "name": "ipython",
    "version": 3
   },
   "file_extension": ".py",
   "mimetype": "text/x-python",
   "name": "python",
   "nbconvert_exporter": "python",
   "pygments_lexer": "ipython3",
   "version": "3.12.11"
  }
 },
 "nbformat": 4,
 "nbformat_minor": 5
}
