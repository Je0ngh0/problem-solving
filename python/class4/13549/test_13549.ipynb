{
 "cells": [
  {
   "cell_type": "code",
   "execution_count": 17,
   "id": "161d242e",
   "metadata": {},
   "outputs": [],
   "source": [
    "n, k = 5, 17"
   ]
  },
  {
   "cell_type": "code",
   "execution_count": 18,
   "id": "5cb9e615",
   "metadata": {},
   "outputs": [],
   "source": [
    "visited = [0] * 10**6"
   ]
  },
  {
   "cell_type": "code",
   "execution_count": 19,
   "id": "7fe59b9f",
   "metadata": {},
   "outputs": [
    {
     "name": "stdout",
     "output_type": "stream",
     "text": [
      "6 1\n",
      "4 1\n",
      "10 0\n",
      "7 2\n",
      "5 2\n",
      "12 1\n",
      "3 2\n",
      "8 1\n",
      "11 1\n",
      "9 1\n",
      "20 0\n",
      "14 2\n",
      "10 2\n",
      "13 2\n",
      "24 1\n",
      "2 3\n",
      "16 1\n",
      "22 1\n",
      "18 1\n",
      "21 1\n",
      "19 1\n",
      "40 0\n",
      "15 3\n",
      "28 2\n",
      "20 2\n",
      "26 2\n",
      "25 2\n",
      "23 2\n",
      "48 1\n",
      "1 4\n",
      "17 2\n",
      "32 1\n",
      "44 1\n",
      "36 1\n",
      "42 1\n",
      "38 1\n",
      "41 1\n",
      "39 1\n",
      "80 0\n",
      "30 3\n",
      "29 3\n",
      "27 3\n",
      "56 2\n",
      "40 2\n",
      "52 2\n",
      "50 2\n",
      "46 2\n",
      "49 2\n",
      "47 2\n",
      "96 1\n",
      "0 5\n",
      "2\n"
     ]
    }
   ],
   "source": [
    "from collections import deque\n",
    "\n",
    "start = n\n",
    "visited[start] = 0\n",
    "queue = deque([start])\n",
    "\n",
    "while queue:\n",
    "    node = queue.popleft()\n",
    "\n",
    "    graph = [\n",
    "        (next_node, time) for next_node, time in ([node+1, 1], [node-1, 1], [node*2, 0]) if 0<= next_node <= 10**6\n",
    "    ]\n",
    "\n",
    "    if node == k:\n",
    "        print(visited[k])\n",
    "        break\n",
    "\n",
    "    for next_node, time in graph:\n",
    "        if not visited[next_node]:\n",
    "            queue.append(next_node)\n",
    "            visited[next_node] = visited[node] + time\n",
    "            print(next_node, visited[next_node])\n",
    "    "
   ]
  },
  {
   "cell_type": "code",
   "execution_count": 45,
   "id": "33b03e6a",
   "metadata": {},
   "outputs": [],
   "source": [
    "n, k = 6, 9"
   ]
  },
  {
   "cell_type": "code",
   "execution_count": 46,
   "id": "a7e64c51",
   "metadata": {},
   "outputs": [],
   "source": [
    "visited = [[0, False] for _ in range((10**6 + 1))]\n",
    "\n",
    "from collections import deque\n",
    "\n",
    "start = n\n",
    "visited[start][1] = True\n",
    "queue = deque([start])\n",
    "temp_flag = False\n",
    "while queue:\n",
    "    # print(queue)\n",
    "    node = queue.popleft()\n",
    "\n",
    "    graph = [\n",
    "        (next_node, time) for next_node, time in ([node*2, 0], [node+1, 1], [node-1, 1]) if 0<= next_node <= 10**6\n",
    "    ]\n",
    "\n",
    "    if node == k:\n",
    "        temp = visited[k][0]\n",
    "        temp_flag = True\n",
    "        # print(str(visited[k][0]))\n",
    "        # break\n",
    "\n",
    "    for next_node, time in graph:\n",
    "        if not visited[next_node][1]:\n",
    "            if not temp_flag:\n",
    "                queue.append(next_node)\n",
    "                val = visited[node][0] + time\n",
    "                visited[next_node][0] = val\n",
    "                visited[next_node][1] = True\n",
    "            else:\n",
    "                if val >= temp:\n",
    "                    pass\n",
    "                else:\n",
    "                    queue.append(next_node)\n",
    "        elif time == 0:\n",
    "            if not temp_flag:\n",
    "                queue.append(next_node)\n",
    "                val = min(visited[node][0], visited[next_node][0])\n",
    "                visited[next_node][0] = val\n",
    "            else:\n",
    "                if val >= temp:\n",
    "                    pass\n",
    "                else:\n",
    "                    queue.append(next_node)   "
   ]
  },
  {
   "cell_type": "code",
   "execution_count": 47,
   "id": "acb6f574",
   "metadata": {},
   "outputs": [
    {
     "data": {
      "text/plain": [
       "[3, True]"
      ]
     },
     "execution_count": 47,
     "metadata": {},
     "output_type": "execute_result"
    }
   ],
   "source": [
    "visited[9]"
   ]
  }
 ],
 "metadata": {
  "kernelspec": {
   "display_name": "boj-env (3.12.11)",
   "language": "python",
   "name": "python3"
  },
  "language_info": {
   "codemirror_mode": {
    "name": "ipython",
    "version": 3
   },
   "file_extension": ".py",
   "mimetype": "text/x-python",
   "name": "python",
   "nbconvert_exporter": "python",
   "pygments_lexer": "ipython3",
   "version": "3.12.11"
  }
 },
 "nbformat": 4,
 "nbformat_minor": 5
}
