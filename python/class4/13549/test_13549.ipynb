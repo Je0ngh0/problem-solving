{
 "cells": [
  {
   "cell_type": "code",
   "execution_count": 1,
   "id": "161d242e",
   "metadata": {},
   "outputs": [],
   "source": [
    "n, k = 5, 17"
   ]
  },
  {
   "cell_type": "code",
   "execution_count": 2,
   "id": "5cb9e615",
   "metadata": {},
   "outputs": [],
   "source": [
    "visited = [0] * 10**6"
   ]
  },
  {
   "cell_type": "code",
   "execution_count": 19,
   "id": "7fe59b9f",
   "metadata": {},
   "outputs": [
    {
     "name": "stdout",
     "output_type": "stream",
     "text": [
      "6 1\n",
      "4 1\n",
      "10 0\n",
      "7 2\n",
      "5 2\n",
      "12 1\n",
      "3 2\n",
      "8 1\n",
      "11 1\n",
      "9 1\n",
      "20 0\n",
      "14 2\n",
      "10 2\n",
      "13 2\n",
      "24 1\n",
      "2 3\n",
      "16 1\n",
      "22 1\n",
      "18 1\n",
      "21 1\n",
      "19 1\n",
      "40 0\n",
      "15 3\n",
      "28 2\n",
      "20 2\n",
      "26 2\n",
      "25 2\n",
      "23 2\n",
      "48 1\n",
      "1 4\n",
      "17 2\n",
      "32 1\n",
      "44 1\n",
      "36 1\n",
      "42 1\n",
      "38 1\n",
      "41 1\n",
      "39 1\n",
      "80 0\n",
      "30 3\n",
      "29 3\n",
      "27 3\n",
      "56 2\n",
      "40 2\n",
      "52 2\n",
      "50 2\n",
      "46 2\n",
      "49 2\n",
      "47 2\n",
      "96 1\n",
      "0 5\n",
      "2\n"
     ]
    }
   ],
   "source": [
    "from collections import deque\n",
    "\n",
    "start = n\n",
    "visited[start] = 0\n",
    "queue = deque([start])\n",
    "\n",
    "while queue:\n",
    "    node = queue.popleft()\n",
    "\n",
    "    graph = [\n",
    "        (next_node, time) for next_node, time in ([node+1, 1], [node-1, 1], [node*2, 0]) if 0<= next_node <= 10**6\n",
    "    ]\n",
    "\n",
    "    if node == k:\n",
    "        print(visited[k])\n",
    "        break\n",
    "\n",
    "    for next_node, time in graph:\n",
    "        if not visited[next_node]:\n",
    "            queue.append(next_node)\n",
    "            visited[next_node] = visited[node] + time\n",
    "            print(next_node, visited[next_node])\n",
    "    "
   ]
  },
  {
   "cell_type": "code",
   "execution_count": 45,
   "id": "33b03e6a",
   "metadata": {},
   "outputs": [],
   "source": [
    "n, k = 6, 9"
   ]
  },
  {
   "cell_type": "code",
   "execution_count": 3,
   "id": "a7e64c51",
   "metadata": {},
   "outputs": [],
   "source": [
    "visited = [[0, False] for _ in range((10**6 + 1))]\n",
    "\n",
    "from collections import deque\n",
    "\n",
    "start = n\n",
    "visited[start][1] = True\n",
    "queue = deque([start])\n",
    "temp_flag = False\n",
    "while queue:\n",
    "    # print(queue)\n",
    "    node = queue.popleft()\n",
    "\n",
    "    graph = [\n",
    "        (next_node, time) for next_node, time in ([node*2, 0], [node+1, 1], [node-1, 1]) if 0<= next_node <= 10**6\n",
    "    ]\n",
    "\n",
    "    if node == k:\n",
    "        temp = visited[k][0]\n",
    "        temp_flag = True\n",
    "        # print(str(visited[k][0]))\n",
    "        # break\n",
    "\n",
    "    for next_node, time in graph:\n",
    "        if not visited[next_node][1]:\n",
    "            if not temp_flag:\n",
    "                queue.append(next_node)\n",
    "                val = visited[node][0] + time\n",
    "                visited[next_node][0] = val\n",
    "                visited[next_node][1] = True\n",
    "            else:\n",
    "                if val >= temp:\n",
    "                    pass\n",
    "                else:\n",
    "                    queue.append(next_node)\n",
    "        elif time == 0:\n",
    "            if not temp_flag:\n",
    "                queue.append(next_node)\n",
    "                val = min(visited[node][0], visited[next_node][0])\n",
    "                visited[next_node][0] = val\n",
    "            else:\n",
    "                if val >= temp:\n",
    "                    pass\n",
    "                else:\n",
    "                    queue.append(next_node)   "
   ]
  },
  {
   "cell_type": "code",
   "execution_count": 5,
   "id": "acb6f574",
   "metadata": {},
   "outputs": [
    {
     "data": {
      "text/plain": [
       "[1, True]"
      ]
     },
     "execution_count": 5,
     "metadata": {},
     "output_type": "execute_result"
    }
   ],
   "source": [
    "visited[6]"
   ]
  },
  {
   "cell_type": "markdown",
   "id": "a699874a",
   "metadata": {},
   "source": [
    "# Try2"
   ]
  },
  {
   "cell_type": "code",
   "execution_count": 101,
   "id": "fc2b887f",
   "metadata": {},
   "outputs": [],
   "source": [
    "n, k = 6, 9"
   ]
  },
  {
   "cell_type": "code",
   "execution_count": 102,
   "id": "18ad600a",
   "metadata": {},
   "outputs": [],
   "source": [
    "visited = [[0, False] for _ in range(10**6 + 1)]"
   ]
  },
  {
   "cell_type": "code",
   "execution_count": 103,
   "id": "3a1069b4",
   "metadata": {},
   "outputs": [],
   "source": [
    "from collections import deque\n",
    "\n",
    "start = n\n",
    "queue = deque([start])\n",
    "visited[start][1] = True"
   ]
  },
  {
   "cell_type": "code",
   "execution_count": null,
   "id": "d6d70182",
   "metadata": {},
   "outputs": [
    {
     "name": "stdout",
     "output_type": "stream",
     "text": [
      "deque([6])\n",
      "deque([12, 7, 5])\n",
      "deque([7, 5, 24, 13, 11])\n",
      "deque([5, 24, 13, 11, 14, 8])\n",
      "deque([24, 13, 11, 14, 8, 10, 4])\n",
      "deque([13, 11, 14, 8, 10, 4, 48, 25, 23])\n",
      "deque([11, 14, 8, 10, 4, 48, 25, 23, 26])\n",
      "deque([14, 8, 10, 4, 48, 25, 23, 26, 22])\n",
      "deque([8, 10, 4, 48, 25, 23, 26, 22, 28, 15])\n",
      "deque([10, 4, 48, 25, 23, 26, 22, 28, 15, 16, 9])\n",
      "deque([4, 48, 25, 23, 26, 22, 28, 15, 16, 9, 20, 9])\n",
      "deque([48, 25, 23, 26, 22, 28, 15, 16, 9, 20, 9, 3])\n",
      "deque([25, 23, 26, 22, 28, 15, 16, 9, 20, 9, 3, 96, 49, 47])\n",
      "deque([23, 26, 22, 28, 15, 16, 9, 20, 9, 3, 96, 49, 47, 50])\n",
      "deque([26, 22, 28, 15, 16, 9, 20, 9, 3, 96, 49, 47, 50, 46])\n",
      "deque([22, 28, 15, 16, 9, 20, 9, 3, 96, 49, 47, 50, 46, 52, 27])\n",
      "deque([28, 15, 16, 9, 20, 9, 3, 96, 49, 47, 50, 46, 52, 27, 44, 21])\n",
      "deque([15, 16, 9, 20, 9, 3, 96, 49, 47, 50, 46, 52, 27, 44, 21, 56, 29])\n",
      "deque([16, 9, 20, 9, 3, 96, 49, 47, 50, 46, 52, 27, 44, 21, 56, 29, 30])\n",
      "deque([9, 20, 9, 3, 96, 49, 47, 50, 46, 52, 27, 44, 21, 56, 29, 30, 32, 17])\n",
      "2\n",
      "deque([20, 9, 3, 96, 49, 47, 50, 46, 52, 27, 44, 21, 56, 29, 30, 32, 17])\n",
      "deque([9, 3, 96, 49, 47, 50, 46, 52, 27, 44, 21, 56, 29, 30, 32, 17])\n",
      "2\n",
      "deque([3, 96, 49, 47, 50, 46, 52, 27, 44, 21, 56, 29, 30, 32, 17])\n",
      "deque([96, 49, 47, 50, 46, 52, 27, 44, 21, 56, 29, 30, 32, 17])\n",
      "deque([49, 47, 50, 46, 52, 27, 44, 21, 56, 29, 30, 32, 17])\n",
      "deque([47, 50, 46, 52, 27, 44, 21, 56, 29, 30, 32, 17])\n",
      "deque([50, 46, 52, 27, 44, 21, 56, 29, 30, 32, 17])\n",
      "deque([46, 52, 27, 44, 21, 56, 29, 30, 32, 17])\n",
      "deque([52, 27, 44, 21, 56, 29, 30, 32, 17])\n",
      "deque([27, 44, 21, 56, 29, 30, 32, 17])\n",
      "deque([44, 21, 56, 29, 30, 32, 17])\n",
      "deque([21, 56, 29, 30, 32, 17])\n",
      "deque([56, 29, 30, 32, 17])\n",
      "deque([29, 30, 32, 17])\n",
      "deque([30, 32, 17])\n",
      "deque([32, 17])\n",
      "deque([17])\n"
     ]
    }
   ],
   "source": [
    "temp_result = 0\n",
    "flag = False\n",
    "while queue:  \n",
    "    current_position = queue.popleft()\n",
    "    graph = [\n",
    "        (next_position, time) for next_position, time in ((current_position*2, 0), (current_position+1, 1), (current_position-1, 1)) if 0 <= next_position <= 10**6\n",
    "    ]\n",
    "\n",
    "    if current_position == k:\n",
    "        temp_result = visited[k][0]\n",
    "        flag = True\n",
    "\n",
    "    for next_position, time in graph:\n",
    "        new_travel_time = visited[current_position][0] + time\n",
    "        if not visited[next_position][1]:\n",
    "            visited[next_position] = [new_travel_time, True]\n",
    "            if not flag:\n",
    "                queue.append(next_position)\n",
    "        elif new_travel_time < visited[next_position][0]:\n",
    "            visited[next_position][0] = new_travel_time\n",
    "            if not flag:\n",
    "                queue.append(next_position)\n",
    "print(temp_result)"
   ]
  },
  {
   "cell_type": "code",
   "execution_count": 88,
   "id": "29466997",
   "metadata": {},
   "outputs": [
    {
     "data": {
      "text/plain": [
       "2"
      ]
     },
     "execution_count": 88,
     "metadata": {},
     "output_type": "execute_result"
    }
   ],
   "source": [
    "temp_result"
   ]
  },
  {
   "cell_type": "code",
   "execution_count": 69,
   "id": "680917c0",
   "metadata": {},
   "outputs": [
    {
     "data": {
      "text/plain": [
       "[[0, False],\n",
       " [0, False],\n",
       " [0, False],\n",
       " [0, False],\n",
       " [0, False],\n",
       " [1, True],\n",
       " [0, True],\n",
       " [1, True],\n",
       " [2, True],\n",
       " [0, False],\n",
       " [0, False],\n",
       " [1, True],\n",
       " [0, True],\n",
       " [1, True],\n",
       " [1, True],\n",
       " [0, False],\n",
       " [0, False],\n",
       " [0, False],\n",
       " [0, False],\n",
       " [0, False]]"
      ]
     },
     "execution_count": 69,
     "metadata": {},
     "output_type": "execute_result"
    }
   ],
   "source": [
    "visited[:20]"
   ]
  },
  {
   "cell_type": "code",
   "execution_count": 42,
   "id": "9230f86e",
   "metadata": {},
   "outputs": [
    {
     "data": {
      "text/plain": [
       "1"
      ]
     },
     "execution_count": 42,
     "metadata": {},
     "output_type": "execute_result"
    }
   ],
   "source": [
    "visited[current_position][0] + time"
   ]
  },
  {
   "cell_type": "code",
   "execution_count": 41,
   "id": "ea38b559",
   "metadata": {},
   "outputs": [
    {
     "data": {
      "text/plain": [
       "1"
      ]
     },
     "execution_count": 41,
     "metadata": {},
     "output_type": "execute_result"
    }
   ],
   "source": [
    "new_travel_time"
   ]
  },
  {
   "cell_type": "code",
   "execution_count": 39,
   "id": "d998ce83",
   "metadata": {},
   "outputs": [
    {
     "data": {
      "text/plain": [
       "[(10, 0), (6, 1), (4, 1)]"
      ]
     },
     "execution_count": 39,
     "metadata": {},
     "output_type": "execute_result"
    }
   ],
   "source": [
    "graph"
   ]
  }
 ],
 "metadata": {
  "kernelspec": {
   "display_name": "boj-env (3.12.11)",
   "language": "python",
   "name": "python3"
  },
  "language_info": {
   "codemirror_mode": {
    "name": "ipython",
    "version": 3
   },
   "file_extension": ".py",
   "mimetype": "text/x-python",
   "name": "python",
   "nbconvert_exporter": "python",
   "pygments_lexer": "ipython3",
   "version": "3.12.11"
  }
 },
 "nbformat": 4,
 "nbformat_minor": 5
}
