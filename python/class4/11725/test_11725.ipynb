{
 "cells": [
  {
   "cell_type": "code",
   "execution_count": 1,
   "id": "3e0883a0",
   "metadata": {},
   "outputs": [],
   "source": [
    "n = 7"
   ]
  },
  {
   "cell_type": "code",
   "execution_count": 24,
   "id": "3ba16f46",
   "metadata": {},
   "outputs": [],
   "source": [
    "nodes = [\n",
    "    [1, 6],\n",
    "    [6, 3],\n",
    "    [3, 5],\n",
    "    [4, 1],\n",
    "    [2, 4],\n",
    "    [4, 7]\n",
    "]\n",
    "\n"
   ]
  },
  {
   "cell_type": "code",
   "execution_count": 29,
   "id": "c9b9a4e8",
   "metadata": {},
   "outputs": [],
   "source": [
    "graph = {\n",
    "    key: [] for key in range(n+1)\n",
    "}\n",
    "tree = {\n",
    "    key: [] for key in range(n+1)\n",
    "}\n",
    "\n",
    "for x, y in nodes:\n",
    "    graph[x].append(y)\n",
    "    graph[y].append(x)"
   ]
  },
  {
   "cell_type": "code",
   "execution_count": 30,
   "id": "49488928",
   "metadata": {},
   "outputs": [
    {
     "data": {
      "text/plain": [
       "{0: [], 1: [6, 4], 2: [4], 3: [6, 5], 4: [1, 2, 7], 5: [3], 6: [1, 3], 7: [4]}"
      ]
     },
     "execution_count": 30,
     "metadata": {},
     "output_type": "execute_result"
    }
   ],
   "source": [
    "graph"
   ]
  },
  {
   "cell_type": "code",
   "execution_count": null,
   "id": "7daa63d2",
   "metadata": {},
   "outputs": [
    {
     "name": "stdout",
     "output_type": "stream",
     "text": [
      "6\n",
      "4\n",
      "1\n",
      "3\n",
      "1\n",
      "2\n",
      "7\n",
      "6\n",
      "5\n",
      "4\n",
      "4\n",
      "3\n"
     ]
    }
   ],
   "source": [
    "from collections import deque\n",
    "\n",
    "root = 1\n",
    "tree[1] = 1\n",
    "queue = deque([root])\n",
    "visited = [False for _ in range(n+1)]\n",
    "\n",
    "while queue:\n",
    "    node = queue.popleft()\n",
    "    visited[node] = True\n",
    "    for neighborhood in graph[node]:\n",
    "        if not visited[neighborhood]:\n",
    "            queue.append(neighborhood)\n",
    "            tree[neighborhood] = node\n",
    "\n",
    "\n"
   ]
  },
  {
   "cell_type": "code",
   "execution_count": 32,
   "id": "0f38b3fd",
   "metadata": {},
   "outputs": [
    {
     "data": {
      "text/plain": [
       "{0: [], 1: 1, 2: 4, 3: 6, 4: 1, 5: 3, 6: 1, 7: 4}"
      ]
     },
     "execution_count": 32,
     "metadata": {},
     "output_type": "execute_result"
    }
   ],
   "source": [
    "tree"
   ]
  },
  {
   "cell_type": "code",
   "execution_count": 11,
   "id": "9afb85b3",
   "metadata": {},
   "outputs": [
    {
     "data": {
      "text/plain": [
       "{0: [], 1: [6, 4], 2: [4], 3: [6, 5], 4: [1, 2, 7], 5: [3], 6: [1, 3], 7: [4]}"
      ]
     },
     "execution_count": 11,
     "metadata": {},
     "output_type": "execute_result"
    }
   ],
   "source": [
    "graph"
   ]
  },
  {
   "cell_type": "code",
   "execution_count": 19,
   "id": "5b0996a9",
   "metadata": {},
   "outputs": [
    {
     "data": {
      "text/plain": [
       "deque([6, 4])"
      ]
     },
     "execution_count": 19,
     "metadata": {},
     "output_type": "execute_result"
    }
   ],
   "source": [
    "queue"
   ]
  },
  {
   "cell_type": "code",
   "execution_count": 33,
   "id": "404e2aba",
   "metadata": {},
   "outputs": [
    {
     "data": {
      "text/plain": [
       "[False, True, True, True, True, True, True, True]"
      ]
     },
     "execution_count": 33,
     "metadata": {},
     "output_type": "execute_result"
    }
   ],
   "source": [
    "visited"
   ]
  }
 ],
 "metadata": {
  "kernelspec": {
   "display_name": "boj-env (3.12.11)",
   "language": "python",
   "name": "python3"
  },
  "language_info": {
   "codemirror_mode": {
    "name": "ipython",
    "version": 3
   },
   "file_extension": ".py",
   "mimetype": "text/x-python",
   "name": "python",
   "nbconvert_exporter": "python",
   "pygments_lexer": "ipython3",
   "version": "3.12.11"
  }
 },
 "nbformat": 4,
 "nbformat_minor": 5
}
