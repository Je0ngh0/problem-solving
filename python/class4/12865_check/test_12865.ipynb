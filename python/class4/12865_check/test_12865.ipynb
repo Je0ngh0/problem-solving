{
 "cells": [
  {
   "cell_type": "code",
   "execution_count": 167,
   "id": "a0ef3b86",
   "metadata": {},
   "outputs": [],
   "source": [
    "n, k = 4, 7\n",
    "wvs = [(6, 13), (4, 8), (3, 6), (5, 12)]\n",
    "weight_sum = sum(map(lambda x: x[0], wvs))\n",
    "# wvs = {\n",
    "#     w: v for w, v in wvs\n",
    "# }"
   ]
  },
  {
   "cell_type": "code",
   "execution_count": null,
   "id": "21f4f3ed",
   "metadata": {},
   "outputs": [],
   "source": [
    "    무게\n",
    "0개 가치"
   ]
  },
  {
   "cell_type": "code",
   "execution_count": 212,
   "id": "5af648e5",
   "metadata": {},
   "outputs": [],
   "source": [
    "dp = [[0 for _ in range(weight_sum+1)] for _ in range(n+1)]"
   ]
  },
  {
   "cell_type": "code",
   "execution_count": 213,
   "id": "b083d0ab",
   "metadata": {},
   "outputs": [
    {
     "data": {
      "text/plain": [
       "[[0, 0, 0, 0, 0, 0, 0, 0, 0, 0, 0, 0, 0, 0, 0, 0, 0, 0, 0],\n",
       " [0, 0, 0, 0, 0, 0, 0, 0, 0, 0, 0, 0, 0, 0, 0, 0, 0, 0, 0],\n",
       " [0, 0, 0, 0, 0, 0, 0, 0, 0, 0, 0, 0, 0, 0, 0, 0, 0, 0, 0],\n",
       " [0, 0, 0, 0, 0, 0, 0, 0, 0, 0, 0, 0, 0, 0, 0, 0, 0, 0, 0],\n",
       " [0, 0, 0, 0, 0, 0, 0, 0, 0, 0, 0, 0, 0, 0, 0, 0, 0, 0, 0]]"
      ]
     },
     "execution_count": 213,
     "metadata": {},
     "output_type": "execute_result"
    }
   ],
   "source": [
    "dp"
   ]
  },
  {
   "cell_type": "code",
   "execution_count": 214,
   "id": "f3bf09c6",
   "metadata": {},
   "outputs": [],
   "source": [
    "from itertools import combinations\n",
    "combss = []\n",
    "for i in range(1, n+1):\n",
    "    combss.append(list(combinations(wvs, i)))"
   ]
  },
  {
   "cell_type": "code",
   "execution_count": 215,
   "id": "a18b3ffd",
   "metadata": {},
   "outputs": [],
   "source": [
    "for item_num, combs in enumerate(combss):\n",
    "    item_num += 1\n",
    "    for comb in combs:\n",
    "        w = sum(map(lambda x: x[0], comb))\n",
    "        v = sum(map(lambda x: x[1], comb))\n",
    "        dp[item_num][w] = max(dp[item_num][w], v)"
   ]
  },
  {
   "cell_type": "code",
   "execution_count": 216,
   "id": "b2a7685c",
   "metadata": {},
   "outputs": [],
   "source": [
    "temp = 0\n",
    "for item_num in range(1, n+1):\n",
    "    temp = 0\n",
    "    for weight in range(weight_sum+1):\n",
    "        if dp[item_num][weight] == 0 :\n",
    "            if temp == 0:\n",
    "                dp[item_num][weight] = dp[item_num-1][weight]\n",
    "            elif temp != 0:\n",
    "                dp[item_num][weight] = temp\n",
    "        else:\n",
    "            temp = dp[item_num][weight]"
   ]
  },
  {
   "cell_type": "code",
   "execution_count": 218,
   "id": "06583b2a",
   "metadata": {},
   "outputs": [
    {
     "data": {
      "text/plain": [
       "14"
      ]
     },
     "execution_count": 218,
     "metadata": {},
     "output_type": "execute_result"
    }
   ],
   "source": [
    "dp[n][k]"
   ]
  },
  {
   "cell_type": "code",
   "execution_count": null,
   "id": "be0da092",
   "metadata": {},
   "outputs": [],
   "source": [
    "for item_num in range(1, n+1):\n",
    "    temp = 0\n",
    "    for weight in range(1, weight_sum+1):\n",
    "        if item_num == 1:\n",
    "            if dp[item_num][weight] != 0:\n",
    "                temp = dp[item_num][weight]\n",
    "            else:\n",
    "                dp[item_num][weight] = temp\n",
    "        else:\n",
    "            dp[item_num][weight]\n"
   ]
  },
  {
   "cell_type": "code",
   "execution_count": 155,
   "id": "f4777fdb",
   "metadata": {},
   "outputs": [
    {
     "data": {
      "text/plain": [
       "[[0, 0, 0, 0, 0, 0, 0, 0, 0, 0, 0, 0, 0, 0, 0, 0, 0, 0, 0],\n",
       " [0, 0, 0, 6, 8, 12, 13, 13, 13, 13, 13, 13, 13, 13, 13, 13, 13, 13, 13],\n",
       " [0, 0, 0, 0, 0, 0, 0, 0, 0, 0, 0, 0, 0, 0, 0, 0, 0, 0, 0],\n",
       " [0, 0, 0, 0, 0, 0, 0, 0, 0, 0, 0, 0, 0, 0, 0, 0, 0, 0, 0],\n",
       " [0, 0, 0, 0, 0, 0, 0, 0, 0, 0, 0, 0, 0, 0, 0, 0, 0, 0, 0]]"
      ]
     },
     "execution_count": 155,
     "metadata": {},
     "output_type": "execute_result"
    }
   ],
   "source": [
    "dp"
   ]
  }
 ],
 "metadata": {
  "kernelspec": {
   "display_name": "boj-env (3.12.11)",
   "language": "python",
   "name": "python3"
  },
  "language_info": {
   "codemirror_mode": {
    "name": "ipython",
    "version": 3
   },
   "file_extension": ".py",
   "mimetype": "text/x-python",
   "name": "python",
   "nbconvert_exporter": "python",
   "pygments_lexer": "ipython3",
   "version": "3.12.11"
  }
 },
 "nbformat": 4,
 "nbformat_minor": 5
}
