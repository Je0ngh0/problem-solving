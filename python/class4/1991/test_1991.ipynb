{
 "cells": [
  {
   "cell_type": "code",
   "execution_count": 109,
   "id": "7790c23b",
   "metadata": {},
   "outputs": [],
   "source": [
    "n = 7\n",
    "arr = [['A', 'B', 'C'], ['B', 'D', '.'], ['C', 'E', 'F'], ['E', '.', '.'], ['F', '.', 'G'], ['D', '.', '.'], ['G', '.', '.']]"
   ]
  },
  {
   "cell_type": "code",
   "execution_count": 110,
   "id": "0a988474",
   "metadata": {},
   "outputs": [],
   "source": [
    "graph = dict()\n",
    "\n",
    "for root, right, left in arr:\n",
    "    graph[root] = [right, left]"
   ]
  },
  {
   "cell_type": "code",
   "execution_count": 111,
   "id": "83fef06c",
   "metadata": {},
   "outputs": [
    {
     "data": {
      "text/plain": [
       "{'A': ['B', 'C'],\n",
       " 'B': ['D', '.'],\n",
       " 'C': ['E', 'F'],\n",
       " 'E': ['.', '.'],\n",
       " 'F': ['.', 'G'],\n",
       " 'D': ['.', '.'],\n",
       " 'G': ['.', '.']}"
      ]
     },
     "execution_count": 111,
     "metadata": {},
     "output_type": "execute_result"
    }
   ],
   "source": [
    "graph"
   ]
  },
  {
   "cell_type": "code",
   "execution_count": 168,
   "id": "a62dbb75",
   "metadata": {},
   "outputs": [],
   "source": [
    "from collections import deque\n",
    "\n",
    "def travel(graph: dict, start: str, visited: set, result: dict):\n",
    "    root_val = start\n",
    "    left_val = graph[start][0]\n",
    "    right_val = graph[start][1]\n",
    "\n",
    "    left_pre, right_pre = [[], []]\n",
    "    left_inorder, right_inorder = [[], []]\n",
    "    left_post, right_post = [[], []]\n",
    "\n",
    "    if left_val != '.':\n",
    "        travel(graph, left_val, visited, result)\n",
    "        left_pre = result[\"pre\"]\n",
    "        left_inorder = result[\"inorder\"]\n",
    "        left_post = result[\"post\"]\n",
    "    if right_val != '.':\n",
    "        travel(graph, right_val, visited, result)\n",
    "        right_pre = result[\"pre\"]\n",
    "        right_inorder = result[\"inorder\"]\n",
    "        right_post = result[\"post\"]\n",
    "\n",
    "    result[\"pre\"] = [root_val] + left_pre + right_pre\n",
    "    result[\"inorder\"] = left_inorder + [root_val] + right_inorder\n",
    "    result[\"post\"] = left_post + right_post + [root_val]\n",
    "\n",
    "start = 'A'\n",
    "visited = {start}\n",
    "result = {\"pre\": deque(['A']), \"inorder\": deque(['A']), \"post\": deque(['A'])}"
   ]
  },
  {
   "cell_type": "code",
   "execution_count": 169,
   "id": "1eeb68ee",
   "metadata": {},
   "outputs": [],
   "source": [
    "travel(graph, start, visited, result)"
   ]
  },
  {
   "cell_type": "code",
   "execution_count": 170,
   "id": "47418f71",
   "metadata": {},
   "outputs": [
    {
     "data": {
      "text/plain": [
       "{'pre': ['A', 'B', 'D', 'C', 'E', 'F', 'G'],\n",
       " 'inorder': ['D', 'B', 'A', 'E', 'C', 'F', 'G'],\n",
       " 'post': ['D', 'B', 'E', 'G', 'F', 'C', 'A']}"
      ]
     },
     "execution_count": 170,
     "metadata": {},
     "output_type": "execute_result"
    }
   ],
   "source": [
    "result"
   ]
  }
 ],
 "metadata": {
  "kernelspec": {
   "display_name": "boj-env (3.12.11)",
   "language": "python",
   "name": "python3"
  },
  "language_info": {
   "codemirror_mode": {
    "name": "ipython",
    "version": 3
   },
   "file_extension": ".py",
   "mimetype": "text/x-python",
   "name": "python",
   "nbconvert_exporter": "python",
   "pygments_lexer": "ipython3",
   "version": "3.12.11"
  }
 },
 "nbformat": 4,
 "nbformat_minor": 5
}
