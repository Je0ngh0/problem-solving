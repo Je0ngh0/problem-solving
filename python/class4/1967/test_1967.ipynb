{
 "cells": [
  {
   "cell_type": "code",
   "execution_count": 5,
   "id": "18086692",
   "metadata": {},
   "outputs": [],
   "source": [
    "n = 12\n",
    "arr = [[1, 2, 3], [1, 3, 2], [2, 4, 5], [3, 5, 11], [3, 6, 9], [4, 7, 1], [4, 8, 7], [5, 9, 15], [5, 10, 4], [6, 11, 6], [6, 12, 10]]"
   ]
  },
  {
   "cell_type": "code",
   "execution_count": 6,
   "id": "65008283",
   "metadata": {},
   "outputs": [
    {
     "data": {
      "text/plain": [
       "[[1, 2, 3],\n",
       " [1, 3, 2],\n",
       " [2, 4, 5],\n",
       " [3, 5, 11],\n",
       " [3, 6, 9],\n",
       " [4, 7, 1],\n",
       " [4, 8, 7],\n",
       " [5, 9, 15],\n",
       " [5, 10, 4],\n",
       " [6, 11, 6],\n",
       " [6, 12, 10]]"
      ]
     },
     "execution_count": 6,
     "metadata": {},
     "output_type": "execute_result"
    }
   ],
   "source": [
    "arr"
   ]
  },
  {
   "cell_type": "code",
   "execution_count": 17,
   "id": "68d71f10",
   "metadata": {},
   "outputs": [],
   "source": [
    "from collections import defaultdict\n",
    "\n",
    "graph = defaultdict(list)\n",
    "for parent, child, weight in arr:\n",
    "    graph[parent].append((weight, child))\n",
    "    graph[child].append((weight, parent))"
   ]
  },
  {
   "cell_type": "code",
   "execution_count": 18,
   "id": "7d86c7a3",
   "metadata": {},
   "outputs": [
    {
     "data": {
      "text/plain": [
       "defaultdict(list,\n",
       "            {1: [(3, 2), (2, 3)],\n",
       "             2: [(3, 1), (5, 4)],\n",
       "             3: [(2, 1), (11, 5), (9, 6)],\n",
       "             4: [(5, 2), (1, 7), (7, 8)],\n",
       "             5: [(11, 3), (15, 9), (4, 10)],\n",
       "             6: [(9, 3), (6, 11), (10, 12)],\n",
       "             7: [(1, 4)],\n",
       "             8: [(7, 4)],\n",
       "             9: [(15, 5)],\n",
       "             10: [(4, 5)],\n",
       "             11: [(6, 6)],\n",
       "             12: [(10, 6)]})"
      ]
     },
     "execution_count": 18,
     "metadata": {},
     "output_type": "execute_result"
    }
   ],
   "source": [
    "graph"
   ]
  },
  {
   "cell_type": "code",
   "execution_count": 16,
   "id": "3cce7acd",
   "metadata": {},
   "outputs": [
    {
     "data": {
      "text/plain": [
       "[7, 8, 9, 10, 11, 12]"
      ]
     },
     "execution_count": 16,
     "metadata": {},
     "output_type": "execute_result"
    }
   ],
   "source": [
    "leaf_nodes = [node for node in range(arr[-1][0]+1, n+1)]\n",
    "leaf_nodes"
   ]
  }
 ],
 "metadata": {
  "kernelspec": {
   "display_name": "boj-env (3.12.11)",
   "language": "python",
   "name": "python3"
  },
  "language_info": {
   "codemirror_mode": {
    "name": "ipython",
    "version": 3
   },
   "file_extension": ".py",
   "mimetype": "text/x-python",
   "name": "python",
   "nbconvert_exporter": "python",
   "pygments_lexer": "ipython3",
   "version": "3.12.11"
  }
 },
 "nbformat": 4,
 "nbformat_minor": 5
}
