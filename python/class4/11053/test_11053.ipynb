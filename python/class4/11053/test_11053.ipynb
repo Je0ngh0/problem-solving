{
 "cells": [
  {
   "cell_type": "code",
   "execution_count": 1,
   "id": "d63e2c5e",
   "metadata": {},
   "outputs": [],
   "source": [
    "n = 6\n",
    "arr = [10, 20, 10, 30, 20, 50]"
   ]
  },
  {
   "cell_type": "code",
   "execution_count": null,
   "id": "f633e438",
   "metadata": {},
   "outputs": [],
   "source": [
    "10 20 15 16 12 13 14 30 20 50"
   ]
  },
  {
   "cell_type": "code",
   "execution_count": null,
   "id": "9aa0983d",
   "metadata": {},
   "outputs": [],
   "source": [
    "20 30 31 32 11 12 13 40 50"
   ]
  },
  {
   "cell_type": "code",
   "execution_count": null,
   "id": "deb7f262",
   "metadata": {},
   "outputs": [],
   "source": [
    "10 20 30 50"
   ]
  },
  {
   "cell_type": "code",
   "execution_count": null,
   "id": "4d5b7870",
   "metadata": {},
   "outputs": [],
   "source": [
    "j, k = 0, 0\n",
    "\n",
    "temp = 0\n",
    "sub_temp = 0\n",
    "for val in arr:\n",
    "    if temp < val:\n",
    "        j += 1\n",
    "        temp = val\n",
    "    elif temp > val and sub_temp < val:\n",
    "        k += 1\n",
    "        sub_temp = val\n",
    "\n",
    "    if k > j:\n",
    "        j = k\n",
    "        k = 0\n",
    "        temp = sub_temp\n",
    "        sub_temp = temp\n",
    "\n",
    "print(j)"
   ]
  },
  {
   "cell_type": "code",
   "execution_count": 9,
   "id": "ace45566",
   "metadata": {},
   "outputs": [
    {
     "name": "stdout",
     "output_type": "stream",
     "text": [
      "4\n"
     ]
    }
   ],
   "source": [
    "\n",
    "dp = [1] * n\n",
    "\n",
    "for i in range(n):\n",
    "    for j in range(i):\n",
    "        if arr[j] < arr[i]:\n",
    "            dp[i] = max(dp[i], dp[j] + 1)\n",
    "\n",
    "print(max(dp))\n"
   ]
  }
 ],
 "metadata": {
  "kernelspec": {
   "display_name": "boj-env (3.12.11)",
   "language": "python",
   "name": "python3"
  },
  "language_info": {
   "codemirror_mode": {
    "name": "ipython",
    "version": 3
   },
   "file_extension": ".py",
   "mimetype": "text/x-python",
   "name": "python",
   "nbconvert_exporter": "python",
   "pygments_lexer": "ipython3",
   "version": "3.12.11"
  }
 },
 "nbformat": 4,
 "nbformat_minor": 5
}
