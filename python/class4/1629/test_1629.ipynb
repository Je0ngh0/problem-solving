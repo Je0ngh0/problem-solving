{
 "cells": [
  {
   "cell_type": "markdown",
   "id": "e5574056",
   "metadata": {},
   "source": [
    "| 연산                       | 식                                                                    |\n",
    "| ------------------------ | -------------------------------------------------------------------- |\n",
    "| **정의**                   | $a = q \\times c + r \\quad (0 \\le r < c) \\Rightarrow r = a \\bmod c$ |\n",
    "| **덧셈(Addition)**         | $(a + b) \\bmod c = ((a \\bmod c) + (b \\bmod c)) \\bmod c$            |\n",
    "| **뺄셈(Subtraction)**      | $(a - b) \\bmod c = ((a \\bmod c) - (b \\bmod c)) \\bmod c$            |\n",
    "| **곱셈(Multiplication)**   | $(a \\times b) \\bmod c = ((a \\bmod c) \\times (b \\bmod c)) \\bmod c$  |\n",
    "| **거듭제곱(Exponentiation)** | $(a^b) \\bmod c = ((a \\bmod c)^b) \\bmod c$                          |\n",
    "| **짝수 지수 (b=2k)**         | $a^{2k} \\bmod c = ((a^k \\bmod c)^2) \\bmod c$                       |\n",
    "| **홀수 지수 (b=2k+1)**       | $a^{2k+1} \\bmod c = (((a^k \\bmod c)^2) \\times a) \\bmod c$          |\n",
    "| **합동 관계(Congruence)**    | $a \\equiv b \\pmod{c} \\iff a \\bmod c = b \\bmod c$                   |\n",
    "| **나머지 범위**               | $0 \\le (a \\bmod c) < c$                                            |"
   ]
  }
 ],
 "metadata": {
  "kernelspec": {
   "display_name": "boj-env (3.12.11)",
   "language": "python",
   "name": "python3"
  },
  "language_info": {
   "codemirror_mode": {
    "name": "ipython",
    "version": 3
   },
   "file_extension": ".py",
   "mimetype": "text/x-python",
   "name": "python",
   "nbconvert_exporter": "python",
   "pygments_lexer": "ipython3",
   "version": "3.12.11"
  }
 },
 "nbformat": 4,
 "nbformat_minor": 5
}
