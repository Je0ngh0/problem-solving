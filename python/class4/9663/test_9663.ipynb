{
 "cells": [
  {
   "cell_type": "code",
   "execution_count": null,
   "id": "8130dac8",
   "metadata": {},
   "outputs": [],
   "source": [
    "n = 8"
   ]
  },
  {
   "cell_type": "code",
   "execution_count": null,
   "id": "f2ec9305",
   "metadata": {},
   "outputs": [],
   "source": [
    "board = [[0]*n for _ in range(n)]"
   ]
  },
  {
   "cell_type": "code",
   "execution_count": null,
   "id": "91804c3d",
   "metadata": {},
   "outputs": [],
   "source": [
    "for _ in []:\n",
    "    print(\"hi\")"
   ]
  },
  {
   "cell_type": "code",
   "execution_count": null,
   "id": "e62ba9cf",
   "metadata": {},
   "outputs": [],
   "source": [
    "def solve_n_queens(n):\n",
    "    board = [-1] * n\n",
    "    result = []\n",
    "\n",
    "    def is_safe(row, col):\n",
    "        for r in range(row):\n",
    "            if board[r] == col or abs(board[r]-col) == abs(row-r):\n",
    "                return False\n",
    "        return True\n",
    "    \n",
    "    def backtrack(row):\n",
    "        if row == n:\n",
    "            solution = []\n",
    "            for i in range(n):\n",
    "                row_str = \".\" * board[i] + \"Q\" + \".\" * (n - board[i] - 1)\n",
    "                solution.append(row_str)\n",
    "            result.append(solution)\n",
    "            return\n",
    "    \n",
    "        for col in range(n):\n",
    "            if is_safe(row, col):\n",
    "                board[row] = col\n",
    "                backtrack(row+1)\n",
    "                board[row] = -1\n",
    "\n",
    "    backtrack(0)\n",
    "    return result\n",
    "\n",
    "n = 8\n",
    "solutions = solve_n_queens(n)                \n",
    "print(f\"{n}-Queens 해의 개수: {len(solutions)}개\")\n",
    "\n",
    "# 첫 번째 해 출력\n",
    "for row in solutions[0]:\n",
    "    print(row)"
   ]
  },
  {
   "cell_type": "code",
   "execution_count": null,
   "id": "7e675156",
   "metadata": {},
   "outputs": [],
   "source": [
    "n = 8"
   ]
  },
  {
   "cell_type": "code",
   "execution_count": 2,
   "id": "78ecda29",
   "metadata": {},
   "outputs": [
    {
     "ename": "NameError",
     "evalue": "name 'temp_val' is not defined",
     "output_type": "error",
     "traceback": [
      "\u001b[31m---------------------------------------------------------------------------\u001b[39m",
      "\u001b[31mNameError\u001b[39m                                 Traceback (most recent call last)",
      "\u001b[36mCell\u001b[39m\u001b[36m \u001b[39m\u001b[32mIn[2]\u001b[39m\u001b[32m, line 13\u001b[39m\n\u001b[32m      9\u001b[39m         \u001b[38;5;28mprint\u001b[39m(temp_val)\n\u001b[32m     11\u001b[39m     my_func2()\n\u001b[32m---> \u001b[39m\u001b[32m13\u001b[39m \u001b[43mmy_func\u001b[49m\u001b[43m(\u001b[49m\u001b[43m)\u001b[49m\n\u001b[32m     14\u001b[39m \u001b[38;5;28mprint\u001b[39m(a)\n",
      "\u001b[36mCell\u001b[39m\u001b[36m \u001b[39m\u001b[32mIn[2]\u001b[39m\u001b[32m, line 11\u001b[39m, in \u001b[36mmy_func\u001b[39m\u001b[34m()\u001b[39m\n\u001b[32m      8\u001b[39m     temp_val += \u001b[32m1\u001b[39m\n\u001b[32m      9\u001b[39m     \u001b[38;5;28mprint\u001b[39m(temp_val)\n\u001b[32m---> \u001b[39m\u001b[32m11\u001b[39m \u001b[43mmy_func2\u001b[49m\u001b[43m(\u001b[49m\u001b[43m)\u001b[49m\n",
      "\u001b[36mCell\u001b[39m\u001b[36m \u001b[39m\u001b[32mIn[2]\u001b[39m\u001b[32m, line 8\u001b[39m, in \u001b[36mmy_func.<locals>.my_func2\u001b[39m\u001b[34m()\u001b[39m\n\u001b[32m      6\u001b[39m \u001b[38;5;28;01mdef\u001b[39;00m\u001b[38;5;250m \u001b[39m\u001b[34mmy_func2\u001b[39m():\n\u001b[32m      7\u001b[39m     \u001b[38;5;28;01mglobal\u001b[39;00m temp_val\n\u001b[32m----> \u001b[39m\u001b[32m8\u001b[39m     \u001b[43mtemp_val\u001b[49m += \u001b[32m1\u001b[39m\n\u001b[32m      9\u001b[39m     \u001b[38;5;28mprint\u001b[39m(temp_val)\n",
      "\u001b[31mNameError\u001b[39m: name 'temp_val' is not defined"
     ]
    }
   ],
   "source": [
    "a = 1\n",
    "\n",
    "def my_func():\n",
    "    temp_val = 0\n",
    "\n",
    "    def my_func2():\n",
    "        global temp_val\n",
    "        temp_val += 1\n",
    "        print(temp_val)\n",
    "\n",
    "    my_func2()\n",
    "\n",
    "my_func()\n",
    "print(a)"
   ]
  },
  {
   "cell_type": "code",
   "execution_count": 20,
   "id": "d04a2d52",
   "metadata": {},
   "outputs": [
    {
     "data": {
      "text/plain": [
       "'0b1111'"
      ]
     },
     "execution_count": 20,
     "metadata": {},
     "output_type": "execute_result"
    }
   ],
   "source": [
    "available = (1 << 4) - 1\n",
    "bin(available)"
   ]
  },
  {
   "cell_type": "code",
   "execution_count": 18,
   "id": "f785f51c",
   "metadata": {},
   "outputs": [
    {
     "data": {
      "text/plain": [
       "'-0b10000'"
      ]
     },
     "execution_count": 18,
     "metadata": {},
     "output_type": "execute_result"
    }
   ],
   "source": [
    "cols = 0b0101\n",
    "diag1 = 0b0010\n",
    "diag2 = 0b1000\n",
    "\n",
    "bin(~(cols | diag1 | diag2))"
   ]
  },
  {
   "cell_type": "code",
   "execution_count": 22,
   "id": "71aff63d",
   "metadata": {},
   "outputs": [
    {
     "data": {
      "text/plain": [
       "'0b0'"
      ]
     },
     "execution_count": 22,
     "metadata": {},
     "output_type": "execute_result"
    }
   ],
   "source": [
    "n = 4\n",
    "available = ((1 << n) - 1) & ~(cols | diag1 | diag2)\n",
    "bin(available)"
   ]
  },
  {
   "cell_type": "code",
   "execution_count": 4,
   "id": "f4d36069",
   "metadata": {},
   "outputs": [],
   "source": [
    "def my_queens(n):\n",
    "    board = [-1] * n\n",
    "    result = 0\n",
    "    def is_available(row, col):\n",
    "        for r in range(row):\n",
    "            if board[r] == col or abs(board[r] - col) == abs(r - row):\n",
    "                return False\n",
    "        return True\n",
    "    \n",
    "    def backtracking(row):\n",
    "        if row == n:\n",
    "            nonlocal result\n",
    "            result += 1\n",
    "            return\n",
    "        for col in range(n):\n",
    "            if is_available(row, col):\n",
    "                board[row] = col\n",
    "                backtracking(row+1)\n",
    "                board[row] = -1\n",
    "\n",
    "    backtracking(0)\n",
    "    return result\n",
    "\n",
    "result = my_queens(8)"
   ]
  },
  {
   "cell_type": "code",
   "execution_count": 7,
   "id": "68e4c8b3",
   "metadata": {},
   "outputs": [
    {
     "data": {
      "text/plain": [
       "2"
      ]
     },
     "execution_count": 7,
     "metadata": {},
     "output_type": "execute_result"
    }
   ],
   "source": [
    "1 << 1"
   ]
  },
  {
   "cell_type": "code",
   "execution_count": 5,
   "id": "010a32c3",
   "metadata": {},
   "outputs": [
    {
     "data": {
      "text/plain": [
       "92"
      ]
     },
     "execution_count": 5,
     "metadata": {},
     "output_type": "execute_result"
    }
   ],
   "source": [
    "result"
   ]
  },
  {
   "cell_type": "code",
   "execution_count": null,
   "id": "396a535b",
   "metadata": {},
   "outputs": [],
   "source": [
    "len(a)"
   ]
  }
 ],
 "metadata": {
  "kernelspec": {
   "display_name": "boj-env (3.12.11)",
   "language": "python",
   "name": "python3"
  },
  "language_info": {
   "codemirror_mode": {
    "name": "ipython",
    "version": 3
   },
   "file_extension": ".py",
   "mimetype": "text/x-python",
   "name": "python",
   "nbconvert_exporter": "python",
   "pygments_lexer": "ipython3",
   "version": "3.12.11"
  }
 },
 "nbformat": 4,
 "nbformat_minor": 5
}
