{
 "cells": [
  {
   "cell_type": "code",
   "execution_count": 1,
   "id": "1c27aecf",
   "metadata": {},
   "outputs": [],
   "source": [
    "n, m = 3, 1"
   ]
  },
  {
   "cell_type": "code",
   "execution_count": 5,
   "id": "f4119502",
   "metadata": {},
   "outputs": [],
   "source": [
    "nums = [9, 8, 7, 1]"
   ]
  },
  {
   "cell_type": "code",
   "execution_count": 13,
   "id": "2fd66d55",
   "metadata": {},
   "outputs": [
    {
     "data": {
      "text/plain": [
       "[[1, 7], [1, 8], [1, 9], [7, 8], [7, 9], [8, 9]]"
      ]
     },
     "execution_count": 13,
     "metadata": {},
     "output_type": "execute_result"
    }
   ],
   "source": [
    "from itertools import combinations\n",
    "sorted(map(sorted, combinations(nums, 2)))"
   ]
  }
 ],
 "metadata": {
  "kernelspec": {
   "display_name": "boj-env (3.12.11)",
   "language": "python",
   "name": "python3"
  },
  "language_info": {
   "codemirror_mode": {
    "name": "ipython",
    "version": 3
   },
   "file_extension": ".py",
   "mimetype": "text/x-python",
   "name": "python",
   "nbconvert_exporter": "python",
   "pygments_lexer": "ipython3",
   "version": "3.12.11"
  }
 },
 "nbformat": 4,
 "nbformat_minor": 5
}
