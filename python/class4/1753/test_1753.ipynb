{
 "cells": [
  {
   "cell_type": "code",
   "execution_count": 46,
   "id": "2dbc1a20",
   "metadata": {},
   "outputs": [],
   "source": [
    "from collections import deque"
   ]
  },
  {
   "cell_type": "code",
   "execution_count": 47,
   "id": "81cdbe15",
   "metadata": {},
   "outputs": [],
   "source": [
    "v, e = 5, 6\n",
    "k = 1\n",
    "arr = [[5, 1, 1], [1, 2, 2], [1, 3, 3], [2, 3, 4], [2, 4, 5], [3, 4, 6]]"
   ]
  },
  {
   "cell_type": "code",
   "execution_count": 48,
   "id": "086d815e",
   "metadata": {},
   "outputs": [
    {
     "data": {
      "text/plain": [
       "{1: [[2, 2], [3, 3]], 2: [[3, 4], [4, 5]], 3: [[4, 6]], 4: [], 5: [[1, 1]]}"
      ]
     },
     "execution_count": 48,
     "metadata": {},
     "output_type": "execute_result"
    }
   ],
   "source": [
    "graph = {key: [] for key in range(1, v+1)}\n",
    "\n",
    "for start, end, value in arr:\n",
    "    graph[start].append([end, value])\n",
    "\n",
    "graph"
   ]
  },
  {
   "cell_type": "code",
   "execution_count": 61,
   "id": "43ac3114",
   "metadata": {},
   "outputs": [
    {
     "name": "stdout",
     "output_type": "stream",
     "text": [
      "HI\n"
     ]
    }
   ],
   "source": [
    "if float('inf'):\n",
    "    print(\"HI\")"
   ]
  },
  {
   "cell_type": "code",
   "execution_count": null,
   "id": "c6e51dd7",
   "metadata": {},
   "outputs": [],
   "source": [
    "visited = [float('inf')] * (v+1)\n",
    "start = 1\n",
    "queue = deque([start])\n",
    "visited[start] = 0\n",
    "\n",
    "while queue:\n",
    "    current_position = queue.popleft()\n",
    "    for next_position, value in graph[current_position]:\n",
    "        # if not visited[next_position]:\n",
    "        #     queue.append(next_position)\n",
    "        #     visited[next_position] = visited[current_position] + value\n",
    "        if visited[current_position] + value < visited[next_position]:\n",
    "            queue.append(next_position)\n",
    "            visited[next_position] = visited[current_position] + value"
   ]
  },
  {
   "cell_type": "code",
   "execution_count": 51,
   "id": "1a06ba36",
   "metadata": {},
   "outputs": [
    {
     "name": "stdout",
     "output_type": "stream",
     "text": [
      "0\n",
      "2\n",
      "3\n",
      "7\n",
      "INF\n"
     ]
    }
   ],
   "source": [
    "for value in visited[1:]:\n",
    "    if value == float('inf'):\n",
    "        print(\"INF\")\n",
    "    else:\n",
    "        print(value)"
   ]
  },
  {
   "cell_type": "code",
   "execution_count": 45,
   "id": "fd10fcbb",
   "metadata": {},
   "outputs": [
    {
     "data": {
      "text/plain": [
       "[inf, 0, 2, 3, 7, inf]"
      ]
     },
     "execution_count": 45,
     "metadata": {},
     "output_type": "execute_result"
    }
   ],
   "source": [
    "visited"
   ]
  },
  {
   "cell_type": "markdown",
   "id": "66f0aff2",
   "metadata": {},
   "source": [
    "# Try3"
   ]
  },
  {
   "cell_type": "code",
   "execution_count": 99,
   "id": "331589a4",
   "metadata": {},
   "outputs": [],
   "source": [
    "V, e = 5, 6\n",
    "k = 1\n",
    "arr = [[5, 1, 1], [1, 2, 2], [1, 3, 3], [2, 3, 4], [2, 4, 5], [3, 4, 6]]"
   ]
  },
  {
   "cell_type": "code",
   "execution_count": 100,
   "id": "18d6b14c",
   "metadata": {},
   "outputs": [
    {
     "name": "stdout",
     "output_type": "stream",
     "text": [
      "defaultdict(<class 'list'>, {5: [(1, 1)], 1: [(2, 2), (3, 3)], 2: [(4, 3), (5, 4)], 3: [(6, 4)]})\n"
     ]
    }
   ],
   "source": [
    "from collections import defaultdict\n",
    "\n",
    "graph = defaultdict(list)\n",
    "for u, v, w in arr:\n",
    "    graph[u].append((w, v))\n",
    "\n",
    "print(graph)"
   ]
  },
  {
   "cell_type": "code",
   "execution_count": 101,
   "id": "7fef1f60",
   "metadata": {},
   "outputs": [],
   "source": [
    "import heapq\n",
    "\n",
    "start = k\n",
    "queue = [(0, k)]\n",
    "distances = [float('inf')] * (V+1)\n",
    "distances[k] = 0\n",
    "\n",
    "while queue:\n",
    "    current_distance, node = heapq.heappop(queue)\n",
    "\n",
    "    if current_distance > distances[node]:\n",
    "        continue\n",
    "\n",
    "    for weight, adjacent in graph[node]:\n",
    "        adjacent_distance = current_distance + weight\n",
    "\n",
    "        if adjacent_distance < distances[adjacent]:\n",
    "            distances[adjacent] = adjacent_distance\n",
    "            heapq.heappush(queue, (weight, adjacent))\n"
   ]
  },
  {
   "cell_type": "code",
   "execution_count": 102,
   "id": "4efa26a9",
   "metadata": {},
   "outputs": [
    {
     "name": "stdout",
     "output_type": "stream",
     "text": [
      "[inf, 0, 2, 3, 7, inf]\n"
     ]
    }
   ],
   "source": [
    "print(distances)"
   ]
  },
  {
   "cell_type": "code",
   "execution_count": 65,
   "id": "3efb9a03",
   "metadata": {},
   "outputs": [
    {
     "data": {
      "text/plain": [
       "[1, 2, 3, 5, 7, 9]"
      ]
     },
     "execution_count": 65,
     "metadata": {},
     "output_type": "execute_result"
    }
   ],
   "source": [
    "queue"
   ]
  }
 ],
 "metadata": {
  "kernelspec": {
   "display_name": "boj-env (3.12.11)",
   "language": "python",
   "name": "python3"
  },
  "language_info": {
   "codemirror_mode": {
    "name": "ipython",
    "version": 3
   },
   "file_extension": ".py",
   "mimetype": "text/x-python",
   "name": "python",
   "nbconvert_exporter": "python",
   "pygments_lexer": "ipython3",
   "version": "3.12.11"
  }
 },
 "nbformat": 4,
 "nbformat_minor": 5
}
