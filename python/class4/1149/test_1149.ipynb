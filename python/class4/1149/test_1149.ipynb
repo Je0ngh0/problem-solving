{
 "cells": [
  {
   "cell_type": "code",
   "execution_count": 38,
   "id": "eb63eb24",
   "metadata": {},
   "outputs": [],
   "source": [
    "temp = '''3\n",
    "26 40 83\n",
    "49 60 57\n",
    "13 89 99'''\n",
    "temp = temp.split()\n",
    "temp = list(map(int, temp))\n",
    "\n",
    "n = temp[0]\n",
    "arr = []\n",
    "for i in range(1,n+1):\n",
    "    arr.append(temp[3*i -2:3*(i+1)-2])"
   ]
  },
  {
   "cell_type": "code",
   "execution_count": 39,
   "id": "c281678a",
   "metadata": {},
   "outputs": [
    {
     "data": {
      "text/plain": [
       "[[26, 40, 83], [49, 60, 57], [13, 89, 99]]"
      ]
     },
     "execution_count": 39,
     "metadata": {},
     "output_type": "execute_result"
    }
   ],
   "source": [
    "arr"
   ]
  },
  {
   "cell_type": "code",
   "execution_count": 40,
   "id": "e87d3077",
   "metadata": {},
   "outputs": [
    {
     "name": "stdout",
     "output_type": "stream",
     "text": [
      "1\n",
      "[49, 60, 57]\n",
      "2\n",
      "[13, 89, 99]\n"
     ]
    }
   ],
   "source": [
    "index_pairs = [(1, 2), (0, 2), (0, 1)]\n",
    "dp = []\n",
    "for i, seq in enumerate(arr):\n",
    "    if i == 0:\n",
    "        dp.append(seq)\n",
    "        continue\n",
    "    print(i)\n",
    "    temp_seq = []\n",
    "    print(seq)\n",
    "    for j, (x, y) in enumerate(index_pairs):\n",
    "        temp_seq.append(seq[j] + min(dp[i-1][x], dp[i-1][y]))\n",
    "    dp.append(temp_seq)\n"
   ]
  },
  {
   "cell_type": "code",
   "execution_count": 42,
   "id": "887fb45b",
   "metadata": {},
   "outputs": [
    {
     "data": {
      "text/plain": [
       "[[26, 40, 83], [89, 86, 83], [96, 172, 185]]"
      ]
     },
     "execution_count": 42,
     "metadata": {},
     "output_type": "execute_result"
    }
   ],
   "source": [
    "dp"
   ]
  },
  {
   "cell_type": "code",
   "execution_count": 12,
   "id": "23d08da7",
   "metadata": {},
   "outputs": [
    {
     "data": {
      "text/plain": [
       "[[26, 40, 83], [49, 60, 57], [13, 89, 99]]"
      ]
     },
     "execution_count": 12,
     "metadata": {},
     "output_type": "execute_result"
    }
   ],
   "source": [
    "arr"
   ]
  },
  {
   "cell_type": "markdown",
   "id": "b8da6bf6",
   "metadata": {},
   "source": [
    "26 40 83\n",
    "89 86 83\n"
   ]
  }
 ],
 "metadata": {
  "kernelspec": {
   "display_name": "boj-env (3.12.11)",
   "language": "python",
   "name": "python3"
  },
  "language_info": {
   "codemirror_mode": {
    "name": "ipython",
    "version": 3
   },
   "file_extension": ".py",
   "mimetype": "text/x-python",
   "name": "python",
   "nbconvert_exporter": "python",
   "pygments_lexer": "ipython3",
   "version": "3.12.11"
  }
 },
 "nbformat": 4,
 "nbformat_minor": 5
}
