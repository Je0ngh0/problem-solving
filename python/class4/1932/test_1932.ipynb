{
 "cells": [
  {
   "cell_type": "code",
   "execution_count": 46,
   "id": "e6f0b51b",
   "metadata": {},
   "outputs": [],
   "source": [
    "n = 5\n",
    "arr = [[7], [3, 8], [8, 1, 0], [2, 7, 4, 4], [4, 5, 2, 6, 5]]"
   ]
  },
  {
   "cell_type": "code",
   "execution_count": 47,
   "id": "812907bd",
   "metadata": {},
   "outputs": [],
   "source": [
    "dp = [arr[0]]"
   ]
  },
  {
   "cell_type": "code",
   "execution_count": 48,
   "id": "0d26824f",
   "metadata": {},
   "outputs": [
    {
     "data": {
      "text/plain": [
       "[[7]]"
      ]
     },
     "execution_count": 48,
     "metadata": {},
     "output_type": "execute_result"
    }
   ],
   "source": [
    "dp"
   ]
  },
  {
   "cell_type": "code",
   "execution_count": null,
   "id": "3f0076f2",
   "metadata": {},
   "outputs": [],
   "source": [
    "ds = [0, -1]\n",
    "for i in range(1, 5):\n",
    "    temp_arr = []\n",
    "    for j, cv in enumerate(arr[i]):\n",
    "        pre_len = len(arr[i-1])\n",
    "        temp_num = 0\n",
    "        for d in ds:\n",
    "            if 0 <= j + d < pre_len:\n",
    "                if dp[i-1][j+d] > temp_num:\n",
    "                    temp_num = dp[i-1][j+d]\n",
    "        temp_arr.append(temp_num+cv)\n",
    "    dp.append(temp_arr)\n",
    "\n",
    "print(f\"{max(dp[-1])}\")"
   ]
  },
  {
   "cell_type": "code",
   "execution_count": 50,
   "id": "e38e227d",
   "metadata": {},
   "outputs": [
    {
     "data": {
      "text/plain": [
       "[[7], [10, 15], [18, 16, 15], [20, 25, 20, 19], [24, 30, 27, 26, 24]]"
      ]
     },
     "execution_count": 50,
     "metadata": {},
     "output_type": "execute_result"
    }
   ],
   "source": [
    "dp"
   ]
  },
  {
   "cell_type": "code",
   "execution_count": null,
   "id": "221e1c24",
   "metadata": {},
   "outputs": [],
   "source": []
  }
 ],
 "metadata": {
  "kernelspec": {
   "display_name": "boj-env (3.12.11)",
   "language": "python",
   "name": "python3"
  },
  "language_info": {
   "codemirror_mode": {
    "name": "ipython",
    "version": 3
   },
   "file_extension": ".py",
   "mimetype": "text/x-python",
   "name": "python",
   "nbconvert_exporter": "python",
   "pygments_lexer": "ipython3",
   "version": "3.12.11"
  }
 },
 "nbformat": 4,
 "nbformat_minor": 5
}
