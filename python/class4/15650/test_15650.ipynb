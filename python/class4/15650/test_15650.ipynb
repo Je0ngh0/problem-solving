{
 "cells": [
  {
   "cell_type": "code",
   "execution_count": 2,
   "id": "007bba91",
   "metadata": {},
   "outputs": [],
   "source": [
    "n, m = 4, 2"
   ]
  },
  {
   "cell_type": "code",
   "execution_count": 3,
   "id": "8adb9d24",
   "metadata": {},
   "outputs": [],
   "source": [
    "temp_list = list(range(1, n+1))"
   ]
  },
  {
   "cell_type": "code",
   "execution_count": 5,
   "id": "8b2b9157",
   "metadata": {},
   "outputs": [
    {
     "data": {
      "text/plain": [
       "[(1, 2), (1, 3), (1, 4), (2, 3), (2, 4), (3, 4)]"
      ]
     },
     "execution_count": 5,
     "metadata": {},
     "output_type": "execute_result"
    }
   ],
   "source": [
    "from itertools import combinations\n",
    "\n",
    "list(combinations(temp_list, 2))"
   ]
  }
 ],
 "metadata": {
  "kernelspec": {
   "display_name": "boj-env (3.12.11)",
   "language": "python",
   "name": "python3"
  },
  "language_info": {
   "codemirror_mode": {
    "name": "ipython",
    "version": 3
   },
   "file_extension": ".py",
   "mimetype": "text/x-python",
   "name": "python",
   "nbconvert_exporter": "python",
   "pygments_lexer": "ipython3",
   "version": "3.12.11"
  }
 },
 "nbformat": 4,
 "nbformat_minor": 5
}
