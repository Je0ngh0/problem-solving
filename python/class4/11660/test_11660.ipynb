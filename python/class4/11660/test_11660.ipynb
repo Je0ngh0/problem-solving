{
 "cells": [
  {
   "cell_type": "code",
   "execution_count": 16,
   "id": "f63c3940",
   "metadata": {},
   "outputs": [],
   "source": [
    "n, m = 4, 3\n",
    "arr = [[1, 2, 3, 4], [2, 3, 4, 5], [3, 4, 5, 6], [4, 5, 6, 7]]\n",
    "xys = [[1, 1, 2, 3], [2, 3, 2, 3], [0, 0, 3, 3]]"
   ]
  },
  {
   "cell_type": "code",
   "execution_count": 39,
   "id": "5b27bd3b",
   "metadata": {},
   "outputs": [
    {
     "name": "stdout",
     "output_type": "stream",
     "text": [
      "27\n",
      "6\n",
      "64\n"
     ]
    }
   ],
   "source": [
    "for i, (x1, y1, x2, y2) in enumerate(xys):\n",
    "        new_arr = [row[y1:y2+1] for row in arr[x1:x2+1]]\n",
    "        print(sum(sum(row) for row in new_arr))\n"
   ]
  },
  {
   "cell_type": "code",
   "execution_count": 29,
   "id": "d1774f50",
   "metadata": {},
   "outputs": [
    {
     "data": {
      "text/plain": [
       "27"
      ]
     },
     "execution_count": 29,
     "metadata": {},
     "output_type": "execute_result"
    }
   ],
   "source": [
    "sum((sum(arr[x1][y1:y2+1]),sum(arr[x2][y1:y2+1])))\n"
   ]
  },
  {
   "cell_type": "code",
   "execution_count": 55,
   "id": "d5fb844c",
   "metadata": {},
   "outputs": [
    {
     "data": {
      "text/plain": [
       "[[-1, -1, -1, -1], [-1, -1, -1, -1], [-1, -1, -1, -1], [-1, -1, -1, -1]]"
      ]
     },
     "execution_count": 55,
     "metadata": {},
     "output_type": "execute_result"
    }
   ],
   "source": [
    "dp"
   ]
  },
  {
   "cell_type": "code",
   "execution_count": 54,
   "id": "776baca3",
   "metadata": {},
   "outputs": [
    {
     "name": "stdout",
     "output_type": "stream",
     "text": [
      "[1, 2, 3, 4]\n",
      "[2, 3, 4, 5]\n",
      "[3, 4, 5, 6]\n",
      "[4, 5, 6, 7]\n"
     ]
    }
   ],
   "source": [
    "dp = [[-1]*n for _ in range(n)]\n",
    "\n",
    "x, y = 3, 3\n",
    "for seq in arr:\n",
    "    print(seq)"
   ]
  },
  {
   "cell_type": "code",
   "execution_count": null,
   "id": "25dc8af8",
   "metadata": {},
   "outputs": [],
   "source": [
    "[1, 3, 6]\n",
    "3 8 15\n",
    "6 15 27\n",
    "\n",
    "19"
   ]
  },
  {
   "cell_type": "code",
   "execution_count": 74,
   "id": "c54033f8",
   "metadata": {},
   "outputs": [
    {
     "data": {
      "text/plain": [
       "[[1, False, False, False],\n",
       " [False, False, False, False],\n",
       " [False, False, False, False],\n",
       " [False, False, False, False]]"
      ]
     },
     "execution_count": 74,
     "metadata": {},
     "output_type": "execute_result"
    }
   ],
   "source": [
    "dp = [[False]*n for _ in range(n)]\n",
    "dp[0][0] = arr[0][0]\n",
    "dp"
   ]
  },
  {
   "cell_type": "code",
   "execution_count": null,
   "id": "2c0f226a",
   "metadata": {},
   "outputs": [
    {
     "data": {
      "text/plain": [
       "42"
      ]
     },
     "execution_count": 72,
     "metadata": {},
     "output_type": "execute_result"
    }
   ],
   "source": [
    "def my_dp(arr, dp, x, y):\n",
    "    if dp[x][y]:\n",
    "        return dp[x][y]\n",
    "    else:\n",
    "        if y-1 < 0:\n",
    "            sub_sum1 = 0\n",
    "            overlab_sub_sum = 0\n",
    "        else:\n",
    "            sub_sum1 = my_dp(arr, dp, x, y-1)\n",
    "\n",
    "        if x-1 < 0:\n",
    "            sub_sum2 = 0\n",
    "            overlab_sub_sum = 0\n",
    "        else:\n",
    "            sub_sum2 = my_dp(arr, dp, x-1, y)\n",
    "\n",
    "        if x-1 >= 0 and y-1 >= 0:\n",
    "            overlab_sub_sum = my_dp(arr, dp, x-1, y-1)\n",
    "        dp[x][y] = sub_sum1 + sub_sum2 - overlab_sub_sum + arr[x][y]\n",
    "        return dp[x][y]"
   ]
  },
  {
   "cell_type": "code",
   "execution_count": 81,
   "id": "d4bc4717",
   "metadata": {},
   "outputs": [
    {
     "name": "stdout",
     "output_type": "stream",
     "text": [
      "27\n",
      "6\n",
      "64\n"
     ]
    }
   ],
   "source": [
    "for i, (x1, y1, x2, y2) in enumerate(xys):\n",
    "    big_sum = my_dp(arr, dp, x2, y2)\n",
    "\n",
    "    if y1 - 1 < 0:\n",
    "        small_sum1 = 0\n",
    "        overlap_sum = 0\n",
    "    else:\n",
    "        small_sum1 = my_dp(arr, dp, x2, y1-1)\n",
    "\n",
    "    if x1 - 1 < 0:\n",
    "        small_sum2 = 0\n",
    "        overlap_sum = 0\n",
    "    else:\n",
    "        small_sum2 = my_dp(arr, dp, x1-1, y2)\n",
    "\n",
    "    if x1 - 1 >= 0 and y1 - 1 >= 0:\n",
    "        overlap_sum = my_dp(arr, dp, x1-1, y1-1)\n",
    "        \n",
    "    result = big_sum - small_sum1 - small_sum2 + overlap_sum\n",
    "    print(result)"
   ]
  },
  {
   "cell_type": "code",
   "execution_count": 82,
   "id": "a7bdc14b",
   "metadata": {},
   "outputs": [
    {
     "name": "stdout",
     "output_type": "stream",
     "text": [
      "0\n",
      "1\n",
      "2\n",
      "3\n",
      "4\n"
     ]
    }
   ],
   "source": [
    "def my_func():\n",
    "    i = 0\n",
    "    while True:\n",
    "        print(i)\n",
    "        i += 1\n",
    "        if i == 5:\n",
    "            return i\n",
    "\n",
    "a = my_func()"
   ]
  },
  {
   "cell_type": "code",
   "execution_count": 83,
   "id": "6d101922",
   "metadata": {},
   "outputs": [],
   "source": [
    "dp = [[False]*n for _ in range(n)]\n",
    "dp[0][0] = arr[0][0]"
   ]
  },
  {
   "cell_type": "code",
   "execution_count": 93,
   "id": "301d969e",
   "metadata": {},
   "outputs": [
    {
     "data": {
      "text/plain": [
       "64"
      ]
     },
     "execution_count": 93,
     "metadata": {},
     "output_type": "execute_result"
    }
   ],
   "source": [
    "def my_dp(arr, dp, x, y):\n",
    "    if dp[x][y]:\n",
    "        return dp[x][y]\n",
    "    for i in range(x+1):\n",
    "        for j in range(y+1):\n",
    "            if dp[i][j]:\n",
    "                continue\n",
    "            else:\n",
    "                if j-1 < 0:\n",
    "                    sub_sum1 = 0\n",
    "                    overlab_sub_sum = 0\n",
    "                else:\n",
    "                    sub_sum1 = dp[i][j-1]\n",
    "\n",
    "                if i-1 < 0:\n",
    "                    sub_sum2 = 0\n",
    "                    overlab_sub_sum = 0\n",
    "                else:\n",
    "                    sub_sum2 = dp[i-1][j]\n",
    "\n",
    "                if i-1 >= 0 and j-1 >= 0:\n",
    "                    overlab_sub_sum = dp[i-1][j-1]\n",
    "\n",
    "                dp[i][j] = sub_sum1 + sub_sum2 - overlab_sub_sum + arr[i][j]\n",
    "    return dp[x][y]        \n",
    "\n",
    "my_dp(arr, dp, 3,3)"
   ]
  },
  {
   "cell_type": "code",
   "execution_count": 94,
   "id": "2104c44c",
   "metadata": {},
   "outputs": [
    {
     "data": {
      "text/plain": [
       "[[1, 3, 6, 10], [3, 8, 15, 24], [6, 15, 27, 42], [10, 24, 42, 64]]"
      ]
     },
     "execution_count": 94,
     "metadata": {},
     "output_type": "execute_result"
    }
   ],
   "source": [
    "dp"
   ]
  },
  {
   "cell_type": "code",
   "execution_count": 91,
   "id": "0dd284c7",
   "metadata": {},
   "outputs": [
    {
     "data": {
      "text/plain": [
       "56"
      ]
     },
     "execution_count": 91,
     "metadata": {},
     "output_type": "execute_result"
    }
   ],
   "source": [
    "max(5, 56)"
   ]
  }
 ],
 "metadata": {
  "kernelspec": {
   "display_name": "boj-env (3.12.11)",
   "language": "python",
   "name": "python3"
  },
  "language_info": {
   "codemirror_mode": {
    "name": "ipython",
    "version": 3
   },
   "file_extension": ".py",
   "mimetype": "text/x-python",
   "name": "python",
   "nbconvert_exporter": "python",
   "pygments_lexer": "ipython3",
   "version": "3.12.11"
  }
 },
 "nbformat": 4,
 "nbformat_minor": 5
}
